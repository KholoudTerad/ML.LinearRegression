{
  "nbformat": 4,
  "nbformat_minor": 0,
  "metadata": {
    "colab": {
      "provenance": []
    },
    "kernelspec": {
      "name": "python3",
      "display_name": "Python 3"
    },
    "language_info": {
      "name": "python"
    }
  },
  "cells": [
    {
      "cell_type": "code",
      "source": [
        "import numpy\n",
        "#import sklearn\n",
        "from sklearn import linear_model\n",
        "\n",
        "#X represents the size of a tumor in centimeters.\n",
        "X = numpy.array([3.78, 2.44, 2.09, 0.14, 1.72, 1.65, 4.92, 4.37, 4.96, 4.52, 3.69, 5.88]).reshape(-1,1)\n",
        "#Note: X has to be reshaped into a column from a row for the LogisticRegression() function to work.\n",
        "#y represents whether or not the tumor is cancerous (0 for \"No\", 1 for \"Yes\").\n",
        "y = numpy.array([0, 0, 0, 0, 0, 0, 1, 1, 1, 1, 1, 1])\n",
        "\n"
      ],
      "metadata": {
        "id": "2GnDRqy_XzqT"
      },
      "execution_count": null,
      "outputs": []
    },
    {
      "cell_type": "code",
      "source": [
        "logr =linear_model.LogisticRegression()\n",
        "logr.fit(X,y)\n",
        "#predict if tumor is cancerous where the size is 3.46mm:\n",
        "predicted = logr.predict(numpy.array([3.46]).reshape(-1,1))\n",
        "print(predicted)\n",
        "\n"
      ],
      "metadata": {
        "colab": {
          "base_uri": "https://localhost:8080/"
        },
        "id": "uj9YgDcaYAUC",
        "outputId": "4ba81ff5-fca0-44fe-def0-fd5210c1e4e8"
      },
      "execution_count": null,
      "outputs": [
        {
          "output_type": "stream",
          "name": "stdout",
          "text": [
            "[0]\n"
          ]
        }
      ]
    },
    {
      "cell_type": "code",
      "source": [
        "\n",
        "import numpy\n",
        "from sklearn import linear_model\n",
        "\n",
        "#Reshaped for Logistic function.\n",
        "X = numpy.array([3.78, 2.44, 2.09, 0.14, 1.72, 1.65, 4.92, 4.37, 4.96, 4.52, 3.69, 5.88]).reshape(-1,1)\n",
        "y = numpy.array([0, 0, 0, 0, 0, 0, 1, 1, 1, 1, 1, 1])\n",
        "\n",
        "logr = linear_model.LogisticRegression()\n",
        "logr.fit(X,y)\n",
        "\n",
        "log_odds = logr.coef_\n",
        "odds = numpy.exp(log_odds)\n",
        "\n",
        "print(odds)\n",
        "\n",
        "\n",
        "\n"
      ],
      "metadata": {
        "colab": {
          "base_uri": "https://localhost:8080/"
        },
        "id": "CYGsFHNNYwUh",
        "outputId": "a9362103-926a-404b-d184-06daaca20caf"
      },
      "execution_count": null,
      "outputs": [
        {
          "output_type": "stream",
          "name": "stdout",
          "text": [
            "[[4.03541657]]\n"
          ]
        }
      ]
    },
    {
      "cell_type": "code",
      "source": [
        "import numpy\n",
        "from sklearn import linear_model\n",
        "\n",
        "X = numpy.array([3.78, 2.44, 2.09, 0.14, 1.72, 1.65, 4.92, 4.37, 4.96, 4.52, 3.69, 5.88]).reshape(-1,1)\n",
        "y = numpy.array([0, 0, 0, 0, 0, 0, 1, 1, 1, 1, 1, 1])\n",
        "\n",
        "logr = linear_model.LogisticRegression()\n",
        "logr.fit(X,y)\n",
        "\n",
        "def logit2prob(logr, X):\n",
        "  log_odds = logr.coef_ * X + logr.intercept_\n",
        "  odds = numpy.exp(log_odds)\n",
        "  probability = odds / (1 + odds)\n",
        "  return(probability)\n",
        "\n",
        "print(logit2prob(logr, X))\n"
      ],
      "metadata": {
        "colab": {
          "base_uri": "https://localhost:8080/"
        },
        "id": "sqIDeAHvZNyB",
        "outputId": "5d594dc5-95be-403b-fb0e-889e78400763"
      },
      "execution_count": null,
      "outputs": [
        {
          "output_type": "stream",
          "name": "stdout",
          "text": [
            "[[0.60749955]\n",
            " [0.19268876]\n",
            " [0.12775886]\n",
            " [0.00955221]\n",
            " [0.08038616]\n",
            " [0.07345637]\n",
            " [0.88362743]\n",
            " [0.77901378]\n",
            " [0.88924409]\n",
            " [0.81293497]\n",
            " [0.57719129]\n",
            " [0.96664243]]\n"
          ]
        }
      ]
    }
  ]
}